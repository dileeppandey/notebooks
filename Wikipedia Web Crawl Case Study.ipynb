{
 "cells": [
  {
   "cell_type": "markdown",
   "metadata": {},
   "source": [
    "<h1 style=\"color:#2288ff;\">Wikipedia Web Crawl Case Study - Udacity</h1>\n",
    "\n",
    "Aim: Crawl through first valid link of a random wiki page to end up at a page related to Philosophy."
   ]
  },
  {
   "cell_type": "code",
   "execution_count": 36,
   "metadata": {},
   "outputs": [],
   "source": [
    "import requests\n",
    "from bs4 import BeautifulSoup\n",
    "import time\n",
    "import urllib"
   ]
  },
  {
   "cell_type": "markdown",
   "metadata": {},
   "source": [
    "### The <code>continue_crawl</code> function\n",
    "\n",
    "Definition: <code>continue_crawl(search_history, target_url)</code>\n",
    "\n",
    "<code>continue_crawl</code> should return <code>True</code> or <code>False</code> following these rules:\n",
    "\n",
    "* if the most recent article in the search_history is the target article the search should stop and the function should return False\n",
    "* If the list is more than 25 urls long, the function should return False\n",
    "* If the list has a cycle in it, the function should return False\n",
    "* otherwise the search should continue and the function should return True."
   ]
  },
  {
   "cell_type": "code",
   "execution_count": 37,
   "metadata": {},
   "outputs": [],
   "source": [
    "def continue_crawl(search_history, target_url):\n",
    "    if search_history[-1] == target_url:\n",
    "        print(\"You found what you were looking for! Mission Accomplished.\")\n",
    "        return False\n",
    "    elif len(search_history) > 30:\n",
    "        print(\"This charade has gone on for too long! Abort.\")\n",
    "        return False\n",
    "    elif search_history[-1] in search_history[:-1]:\n",
    "        print(\"You are getting into recursive hell! Abort.\")\n",
    "        return False\n",
    "    else:\n",
    "        return True"
   ]
  },
  {
   "cell_type": "markdown",
   "metadata": {},
   "source": [
    "### The <code>while</code> loop\n",
    "<code>while continue_crawl(article_chain, target_url): \n",
    "    # download html of last article in article_chain\n",
    "    # find the first link in that html\n",
    "    # add the first link to article_chain\n",
    "    # delay for about two seconds\n",
    "</code>"
   ]
  },
  {
   "cell_type": "code",
   "execution_count": 40,
   "metadata": {},
   "outputs": [],
   "source": [
    "def find_first_link(url):\n",
    "    response = requests.get(url)\n",
    "    soup = BeautifulSoup(response.text, 'html.parser')\n",
    "    content = soup.find(id='mw-content-text').find(class_=\"mw-parser-output\")\n",
    "    article_link = None\n",
    "    \n",
    "    if content != None:\n",
    "        for elem in content.find_all(\"p\", recursive=False):\n",
    "            if elem.find(\"a\", recursive=False):\n",
    "                article_link = elem.find(\"a\", recursive=False).get('href')\n",
    "                break\n",
    "    \n",
    "    if not article_link:\n",
    "        return\n",
    "    \n",
    "    first_link = urllib.parse.urljoin('https://en.wikipedia.org/', article_link)\n",
    "    return first_link\n",
    "\n",
    "def web_crawl(article_chain, target_url):\n",
    "    while continue_crawl(article_chain, target_url):\n",
    "        article_chain.append(find_first_link(article_chain[-1]))\n",
    "        time.sleep(2)\n",
    "    print(article_chain)"
   ]
  },
  {
   "cell_type": "markdown",
   "metadata": {},
   "source": [
    "Running the Program"
   ]
  },
  {
   "cell_type": "code",
   "execution_count": 42,
   "metadata": {},
   "outputs": [
    {
     "name": "stdout",
     "output_type": "stream",
     "text": [
      "You are getting into recursive hell! Abort.\n",
      "['https://en.wikipedia.org/wiki/Special:Random', 'https://en.wikipedia.org/wiki/Formation_(geology)', 'https://en.wikipedia.org/wiki/Lithostratigraphy', 'https://en.wikipedia.org/wiki/Stratigraphy', 'https://en.wikipedia.org/wiki/Geology', 'https://en.wikipedia.org/wiki/Ancient_Greek', 'https://en.wikipedia.org/wiki/Greek_language', 'https://en.wikipedia.org/wiki/Modern_Greek', 'https://en.wikipedia.org/wiki/Colloquialism', 'https://en.wikipedia.org/wiki/Vernacular', 'https://en.wikipedia.org/wiki/Language', 'https://en.wikipedia.org/wiki/Communication', 'https://en.wikipedia.org/wiki/Meaning_(semiotics)', 'https://en.wikipedia.org/wiki/Semiotics', 'https://en.wikipedia.org/wiki/Research', 'https://en.wikipedia.org/wiki/Knowledge', 'https://en.wikipedia.org/wiki/Fact', 'https://en.wikipedia.org/wiki/Evidence', 'https://en.wikipedia.org/wiki/Logical_assertion', 'https://en.wikipedia.org/wiki/Logic', 'https://en.wikipedia.org/wiki/Ancient_Greek_language', 'https://en.wikipedia.org/wiki/Greek_language']\n",
      "You found what you were looking for! Mission Accomplished.\n",
      "['https://en.wikipedia.org/wiki/Special:Random', 'https://en.wikipedia.org/wiki/Chief_executive_officer', 'https://en.wikipedia.org/wiki/Executive_officer', 'https://en.wikipedia.org/wiki/Organization', 'https://en.wikipedia.org/wiki/Entity', 'https://en.wikipedia.org/wiki/Existence', 'https://en.wikipedia.org/wiki/Being', 'https://en.wikipedia.org/wiki/Objectivity_(philosophy)', 'https://en.wikipedia.org/wiki/Philosophy']\n",
      "This charade has gone on for too long! Abort.\n",
      "['https://en.wikipedia.org/wiki/Special:Random', 'https://en.wikipedia.org/wiki/Grand_Prix_motorcycle_racing', 'https://en.wikipedia.org/wiki/Motorcycle_racing', 'https://en.wikipedia.org/wiki/Motorcycle_sport', 'https://en.wikipedia.org/wiki/Sport', 'https://en.wikipedia.org/wiki/British_English', 'https://en.wikipedia.org/wiki/English_language', 'https://en.wikipedia.org/wiki/West_Germanic_language', 'https://en.wikipedia.org/wiki/Germanic_languages', 'https://en.wikipedia.org/wiki/Indo-European_languages', 'https://en.wikipedia.org/wiki/Language_family', 'https://en.wikipedia.org/wiki/Language', 'https://en.wikipedia.org/wiki/Communication', 'https://en.wikipedia.org/wiki/Meaning_(semiotics)', 'https://en.wikipedia.org/wiki/Semiotics', 'https://en.wikipedia.org/wiki/Research', 'https://en.wikipedia.org/wiki/Knowledge', 'https://en.wikipedia.org/wiki/Fact', 'https://en.wikipedia.org/wiki/Evidence', 'https://en.wikipedia.org/wiki/Logical_assertion', 'https://en.wikipedia.org/wiki/Logic', 'https://en.wikipedia.org/wiki/Ancient_Greek_language', 'https://en.wikipedia.org/wiki/Greek_language', 'https://en.wikipedia.org/wiki/Modern_Greek', 'https://en.wikipedia.org/wiki/Colloquialism', 'https://en.wikipedia.org/wiki/Vernacular']\n",
      "You are getting into recursive hell! Abort.\n",
      "['https://en.wikipedia.org/wiki/Special:Random', 'https://en.wikipedia.org/wiki/Physician', 'https://en.wikipedia.org/wiki/Professional', 'https://en.wikipedia.org/wiki/Profession', 'https://en.wikipedia.org/wiki/Vocation', 'https://en.wikipedia.org/wiki/Latin_language', 'https://en.wikipedia.org/wiki/Classical_language', 'https://en.wikipedia.org/wiki/Language', 'https://en.wikipedia.org/wiki/Communication', 'https://en.wikipedia.org/wiki/Meaning_(semiotics)', 'https://en.wikipedia.org/wiki/Semiotics', 'https://en.wikipedia.org/wiki/Research', 'https://en.wikipedia.org/wiki/Knowledge', 'https://en.wikipedia.org/wiki/Fact', 'https://en.wikipedia.org/wiki/Evidence', 'https://en.wikipedia.org/wiki/Logical_assertion', 'https://en.wikipedia.org/wiki/Logic', 'https://en.wikipedia.org/wiki/Ancient_Greek_language', 'https://en.wikipedia.org/wiki/Greek_language', 'https://en.wikipedia.org/wiki/Modern_Greek', 'https://en.wikipedia.org/wiki/Colloquialism', 'https://en.wikipedia.org/wiki/Vernacular', 'https://en.wikipedia.org/wiki/Language']\n",
      "You are getting into recursive hell! Abort.\n",
      "['https://en.wikipedia.org/wiki/Special:Random', 'https://en.wikipedia.org/wiki/Illinois', 'https://en.wikipedia.org/wiki/Help:Pronunciation_respelling_key', 'https://en.wikipedia.org/wiki/Pronunciation_respelling_for_English', 'https://en.wikipedia.org/wiki/Pronunciation_respelling', 'https://en.wikipedia.org/wiki/Nonce_word', 'https://en.wikipedia.org/wiki/Lexeme', 'https://en.wikipedia.org/wiki/Lexical_semantics', 'https://en.wikipedia.org/wiki/Linguistics', 'https://en.wikipedia.org/wiki/Language', 'https://en.wikipedia.org/wiki/Communication', 'https://en.wikipedia.org/wiki/Meaning_(semiotics)', 'https://en.wikipedia.org/wiki/Semiotics', 'https://en.wikipedia.org/wiki/Research', 'https://en.wikipedia.org/wiki/Knowledge', 'https://en.wikipedia.org/wiki/Fact', 'https://en.wikipedia.org/wiki/Evidence', 'https://en.wikipedia.org/wiki/Logical_assertion', 'https://en.wikipedia.org/wiki/Logic', 'https://en.wikipedia.org/wiki/Ancient_Greek_language', 'https://en.wikipedia.org/wiki/Greek_language', 'https://en.wikipedia.org/wiki/Modern_Greek', 'https://en.wikipedia.org/wiki/Colloquialism', 'https://en.wikipedia.org/wiki/Vernacular', 'https://en.wikipedia.org/wiki/Language']\n",
      "You are getting into recursive hell! Abort.\n",
      "['https://en.wikipedia.org/wiki/Special:Random', 'https://en.wikipedia.org/wiki/Han_(country_subdivision)', 'https://en.wikipedia.org/wiki/Japan', 'https://en.wikipedia.org/wiki/Japanese_language', 'https://en.wikipedia.org/wiki/East_Asian_language', 'https://en.wikipedia.org/wiki/Language_families', 'https://en.wikipedia.org/wiki/Language', 'https://en.wikipedia.org/wiki/Communication', 'https://en.wikipedia.org/wiki/Meaning_(semiotics)', 'https://en.wikipedia.org/wiki/Semiotics', 'https://en.wikipedia.org/wiki/Research', 'https://en.wikipedia.org/wiki/Knowledge', 'https://en.wikipedia.org/wiki/Fact', 'https://en.wikipedia.org/wiki/Evidence', 'https://en.wikipedia.org/wiki/Logical_assertion', 'https://en.wikipedia.org/wiki/Logic', 'https://en.wikipedia.org/wiki/Ancient_Greek_language', 'https://en.wikipedia.org/wiki/Greek_language', 'https://en.wikipedia.org/wiki/Modern_Greek', 'https://en.wikipedia.org/wiki/Colloquialism', 'https://en.wikipedia.org/wiki/Vernacular', 'https://en.wikipedia.org/wiki/Language']\n",
      "This charade has gone on for too long! Abort.\n",
      "['https://en.wikipedia.org/wiki/Special:Random', 'https://en.wikipedia.org/wiki/2004_Olympic_Games', 'https://en.wikipedia.org/wiki/Multi-sport_event', 'https://en.wikipedia.org/wiki/Sport', 'https://en.wikipedia.org/wiki/British_English', 'https://en.wikipedia.org/wiki/English_language', 'https://en.wikipedia.org/wiki/West_Germanic_language', 'https://en.wikipedia.org/wiki/Germanic_languages', 'https://en.wikipedia.org/wiki/Indo-European_languages', 'https://en.wikipedia.org/wiki/Language_family', 'https://en.wikipedia.org/wiki/Language', 'https://en.wikipedia.org/wiki/Communication', 'https://en.wikipedia.org/wiki/Meaning_(semiotics)', 'https://en.wikipedia.org/wiki/Semiotics', 'https://en.wikipedia.org/wiki/Research', 'https://en.wikipedia.org/wiki/Knowledge', 'https://en.wikipedia.org/wiki/Fact', 'https://en.wikipedia.org/wiki/Evidence', 'https://en.wikipedia.org/wiki/Logical_assertion', 'https://en.wikipedia.org/wiki/Logic', 'https://en.wikipedia.org/wiki/Ancient_Greek_language', 'https://en.wikipedia.org/wiki/Greek_language', 'https://en.wikipedia.org/wiki/Modern_Greek', 'https://en.wikipedia.org/wiki/Colloquialism', 'https://en.wikipedia.org/wiki/Vernacular', 'https://en.wikipedia.org/wiki/Language']\n",
      "You are getting into recursive hell! Abort.\n",
      "['https://en.wikipedia.org/wiki/Special:Random', 'https://en.wikipedia.org/wiki/South_Korea', 'https://en.wikipedia.org/wiki/Sovereign_state', 'https://en.wikipedia.org/wiki/International_law', 'https://en.wikipedia.org/wiki/State_(polity)', 'https://en.wikipedia.org/wiki/Political', 'https://en.wikipedia.org/wiki/Greek_language', 'https://en.wikipedia.org/wiki/Modern_Greek', 'https://en.wikipedia.org/wiki/Colloquialism', 'https://en.wikipedia.org/wiki/Vernacular', 'https://en.wikipedia.org/wiki/Language', 'https://en.wikipedia.org/wiki/Communication', 'https://en.wikipedia.org/wiki/Meaning_(semiotics)', 'https://en.wikipedia.org/wiki/Semiotics', 'https://en.wikipedia.org/wiki/Research', 'https://en.wikipedia.org/wiki/Knowledge', 'https://en.wikipedia.org/wiki/Fact', 'https://en.wikipedia.org/wiki/Evidence', 'https://en.wikipedia.org/wiki/Logical_assertion', 'https://en.wikipedia.org/wiki/Logic', 'https://en.wikipedia.org/wiki/Ancient_Greek_language', 'https://en.wikipedia.org/wiki/Greek_language']\n"
     ]
    },
    {
     "name": "stdout",
     "output_type": "stream",
     "text": [
      "You are getting into recursive hell! Abort.\n",
      "['https://en.wikipedia.org/wiki/Special:Random', 'https://en.wikipedia.org/wiki/Swimming_(sport)', 'https://en.wikipedia.org/wiki/Swimming_pool', 'https://en.wikipedia.org/wiki/Human_swimming', 'https://en.wikipedia.org/wiki/Propulsion', 'https://en.wikipedia.org/wiki/Technology', 'https://en.wikipedia.org/wiki/Ancient_Greek', 'https://en.wikipedia.org/wiki/Greek_language', 'https://en.wikipedia.org/wiki/Modern_Greek', 'https://en.wikipedia.org/wiki/Colloquialism', 'https://en.wikipedia.org/wiki/Vernacular', 'https://en.wikipedia.org/wiki/Language', 'https://en.wikipedia.org/wiki/Communication', 'https://en.wikipedia.org/wiki/Meaning_(semiotics)', 'https://en.wikipedia.org/wiki/Semiotics', 'https://en.wikipedia.org/wiki/Research', 'https://en.wikipedia.org/wiki/Knowledge', 'https://en.wikipedia.org/wiki/Fact', 'https://en.wikipedia.org/wiki/Evidence', 'https://en.wikipedia.org/wiki/Logical_assertion', 'https://en.wikipedia.org/wiki/Logic', 'https://en.wikipedia.org/wiki/Ancient_Greek_language', 'https://en.wikipedia.org/wiki/Greek_language']\n",
      "You are getting into recursive hell! Abort.\n",
      "['https://en.wikipedia.org/wiki/Special:Random', 'https://en.wikipedia.org/wiki/AT%26T_Stadium', 'https://en.wikipedia.org/wiki/Arlington,_Texas', 'https://en.wikipedia.org/wiki/Principal_city', 'https://en.wikipedia.org/wiki/Metropolitan_area', 'https://en.wikipedia.org/wiki/Urban_area', 'https://en.wikipedia.org/wiki/Human_settlement', 'https://en.wikipedia.org/wiki/Geography', 'https://en.wikipedia.org/wiki/Greek_language', 'https://en.wikipedia.org/wiki/Modern_Greek', 'https://en.wikipedia.org/wiki/Colloquialism', 'https://en.wikipedia.org/wiki/Vernacular', 'https://en.wikipedia.org/wiki/Language', 'https://en.wikipedia.org/wiki/Communication', 'https://en.wikipedia.org/wiki/Meaning_(semiotics)', 'https://en.wikipedia.org/wiki/Semiotics', 'https://en.wikipedia.org/wiki/Research', 'https://en.wikipedia.org/wiki/Knowledge', 'https://en.wikipedia.org/wiki/Fact', 'https://en.wikipedia.org/wiki/Evidence', 'https://en.wikipedia.org/wiki/Logical_assertion', 'https://en.wikipedia.org/wiki/Logic', 'https://en.wikipedia.org/wiki/Ancient_Greek_language', 'https://en.wikipedia.org/wiki/Greek_language']\n"
     ]
    }
   ],
   "source": [
    "for i in range(10):\n",
    "    start_url = \"https://en.wikipedia.org/wiki/Special:Random\"\n",
    "    target_url = \"https://en.wikipedia.org/wiki/Philosophy\"\n",
    "\n",
    "    article_chain = [start_url]\n",
    "    web_crawl(article_chain, target_url)"
   ]
  },
  {
   "cell_type": "code",
   "execution_count": null,
   "metadata": {},
   "outputs": [],
   "source": []
  }
 ],
 "metadata": {
  "kernelspec": {
   "display_name": "Python 3",
   "language": "python",
   "name": "python3"
  },
  "language_info": {
   "codemirror_mode": {
    "name": "ipython",
    "version": 3
   },
   "file_extension": ".py",
   "mimetype": "text/x-python",
   "name": "python",
   "nbconvert_exporter": "python",
   "pygments_lexer": "ipython3",
   "version": "3.6.5"
  }
 },
 "nbformat": 4,
 "nbformat_minor": 2
}

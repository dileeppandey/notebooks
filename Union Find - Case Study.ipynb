{
 "cells": [
  {
   "cell_type": "markdown",
   "metadata": {},
   "source": [
    "# Union Find : Case Study\n",
    "\n",
    "https://algs4.cs.princeton.edu/15uf/"
   ]
  },
  {
   "cell_type": "markdown",
   "metadata": {},
   "source": [
    "#### Dynamic Connectivity\n",
    "\n",
    "input: sequence of pair of integers `(p, q)`\n",
    "\n",
    "It represents `p` is connected to `q`. *\"is connected\"* has following properties\n",
    "* symmetric: if `p` is connected to `q`, then `q` is also connected to `p`\n",
    "* transitive: if `p` is connected to `q` and `q` is connected to `r`, then `p` is also connected to `r`\n",
    "* reflexive: `p` is connected to `p`\n",
    "\n",
    "An equivalence relation partitions classes into equivalence classes or connected components.\n",
    "\n",
    "#### Union Find API\n",
    "\n",
    "    class\n",
    "        UnionFind\n",
    "    constructor\n",
    "        UF(int N) // initialize n site with integer names 0...N-1\n",
    "    member functions\n",
    "        void union(int p, int q) // add connections between p and q\n",
    "        int find(int p) // component identifier for for p (0 to N-1)\n",
    "        boolean connected(int p, int q) // return true if p and q are in the same component\n",
    "        int count() // number of components"
   ]
  },
  {
   "cell_type": "code",
   "execution_count": 13,
   "metadata": {},
   "outputs": [],
   "source": [
    "class UnionFind(object):\n",
    "    \n",
    "    def __init__(self, N):\n",
    "        \"\"\"\n",
    "        Initialize empty union find data structure with N sites, 0 through N - 1. \n",
    "        Initially each site is its own component.\n",
    "        \n",
    "        @param integer value describing number of sites\n",
    "        @raise ValueError if N < 0 \n",
    "        \"\"\"\n",
    "        if N < 0:\n",
    "            raise ValueError('N should not be less than 0.')\n",
    "        self.count = N\n",
    "        self.parent = [i for i in range(N)]\n",
    "        self.rank = [0] * N\n",
    "        \n",
    "    def validate(self, p):\n",
    "        \"\"\"\n",
    "        Validate the site p if it's in the correct range\n",
    "        @param p numeric representaion of site\n",
    "        @raise ValueError if p is not in range [0, N)\n",
    "        \"\"\"\n",
    "        size = len(self.parent)\n",
    "        if p < 0 or p >= size:\n",
    "            raise ValueError('p should be between 0 and {}'.format(size))\n",
    "    \n",
    "    def find(self, p):\n",
    "        \"\"\"\n",
    "        Find the component identifier of component containing p\n",
    "        \n",
    "        @param p an integer representing a site p\n",
    "        @return component identifier of component containing site p\n",
    "        @raise ValueError if p is not valid\n",
    "        \"\"\"\n",
    "        self.validate(p)\n",
    "        while p != self.parent[p]:\n",
    "            self.parent[p] = self.parent[self.parent[p]] # path compression by halving\n",
    "            p = self.parent[p]\n",
    "        return p\n",
    "    \n",
    "    def union(self, p, q):\n",
    "        \"\"\"\n",
    "        Union two sites p and q\n",
    "        \n",
    "        @param p an integer representing a site p\n",
    "        @param q an integer representing a site q\n",
    "        @raise ValueError if p or q is not valid\n",
    "        \"\"\"\n",
    "        self.validate(p)\n",
    "        self.validate(q)\n",
    "        parent_p = self.find(p)\n",
    "        parent_q = self.find(q)\n",
    "        if parent_p == parent_q:\n",
    "            return\n",
    "        if self.rank[parent_p] < self.rank[parent_q]:\n",
    "            self.parent[p] = parent_q\n",
    "        elif self.rank[parent_p] > self.rank[parent_q]:\n",
    "            self.parent[q] = parent_p\n",
    "        else:\n",
    "            self.parent[parent_q] = parent_p\n",
    "            self.rank[p] += 1\n",
    "        self.count -= 1\n",
    "    \n",
    "    def count_components(self):\n",
    "        \"\"\"\n",
    "        @return number of components between 1 and N.\n",
    "        \"\"\"\n",
    "        return self.count\n",
    "    \n",
    "    def connected(self, p, q):\n",
    "        \"\"\"\n",
    "        Check if two sites are connected\n",
    "        \n",
    "        @param p an integer representing a site p\n",
    "        @param q an integer representing a site q\n",
    "        @return True if connected else False\n",
    "        \"\"\"\n",
    "        return self.find(p) == self.find(q)\n"
   ]
  },
  {
   "cell_type": "code",
   "execution_count": 22,
   "metadata": {},
   "outputs": [],
   "source": [
    "def main():\n",
    "    N = 10\n",
    "    edgeList = [(0, 1), (0, 2), (1, 2), (2, 3), (4, 5), (8, 9), (6, 7)]\n",
    "    uf = UnionFind(N)\n",
    "    for p, q in edgeList:\n",
    "        uf.union(p, q)\n",
    "    print(uf.count, uf.parent, uf.rank)\n",
    "    return uf.count, uf.connected(1,3)"
   ]
  },
  {
   "cell_type": "code",
   "execution_count": 23,
   "metadata": {},
   "outputs": [
    {
     "name": "stdout",
     "output_type": "stream",
     "text": [
      "4 [0, 0, 0, 0, 4, 4, 6, 6, 8, 8] [1, 0, 0, 0, 1, 0, 1, 0, 1, 0]\n"
     ]
    },
    {
     "data": {
      "text/plain": [
       "(4, True)"
      ]
     },
     "execution_count": 23,
     "metadata": {},
     "output_type": "execute_result"
    }
   ],
   "source": [
    "main()"
   ]
  },
  {
   "cell_type": "code",
   "execution_count": null,
   "metadata": {},
   "outputs": [],
   "source": []
  }
 ],
 "metadata": {
  "kernelspec": {
   "display_name": "Python 3",
   "language": "python",
   "name": "python3"
  },
  "language_info": {
   "codemirror_mode": {
    "name": "ipython",
    "version": 3
   },
   "file_extension": ".py",
   "mimetype": "text/x-python",
   "name": "python",
   "nbconvert_exporter": "python",
   "pygments_lexer": "ipython3",
   "version": "3.6.5"
  }
 },
 "nbformat": 4,
 "nbformat_minor": 2
}
